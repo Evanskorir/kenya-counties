{
 "cells": [
  {
   "cell_type": "code",
   "execution_count": 62,
   "metadata": {},
   "outputs": [],
   "source": [
    "import os\n",
    "import numpy as np\n",
    "import matplotlib.pyplot as plt\n",
    "import pandas as pd\n",
    "import os\n",
    "import folium\n",
    "from sklearn.cluster import KMeans\n",
    "from sklearn.decomposition import PCA\n",
    "from matplotlib.tri import Triangulation\n",
    "from Dataloader import DataLoader\n",
    "import webbrowser\n",
    "import numpy as np\n",
    "import xlrd\n",
    "import pandas as pd\n",
    "from sklearn.preprocessing import StandardScaler"
   ]
  },
  {
   "cell_type": "code",
   "execution_count": 63,
   "metadata": {},
   "outputs": [],
   "source": [
    "data = pd.read_excel(\"/Users/user/PycharmProjects/kenya economic indicators/data/data.xls\",\n",
    "                             index_col=0)"
   ]
  },
  {
   "cell_type": "code",
   "execution_count": 64,
   "metadata": {},
   "outputs": [],
   "source": [
    "scaler = StandardScaler()\n",
    "county_data_scaled = scaler.fit_transform(data)"
   ]
  },
  {
   "cell_type": "code",
   "execution_count": 65,
   "metadata": {},
   "outputs": [],
   "source": [
    "pca = PCA(n_components=4, svd_solver='randomized', random_state=50)\n",
    "pca_data = pca.fit_transform(county_data_scaled)"
   ]
  },
  {
   "cell_type": "code",
   "execution_count": 66,
   "metadata": {
    "pycharm": {
     "name": "#%%\n"
    }
   },
   "outputs": [],
   "source": [
    "geo_data = pd.read_excel(\"/Users/user/PycharmProjects/kenya economic indicators/\"\n",
    "                                           \"data/geodata.xls\")"
   ]
  },
  {
   "cell_type": "code",
   "execution_count": 67,
   "metadata": {},
   "outputs": [],
   "source": [
    "\n",
    "# Initialize the class object\n",
    "k_means = KMeans(n_clusters=5, random_state=1)\n",
    "k_means.fit(pca_data)\n",
    "    \n",
    "# predict the labels of clusters.\n",
    "k_means_pred = k_means.predict(pca_data)\n",
    "centroids = k_means.cluster_centers_"
   ]
  },
  {
   "cell_type": "code",
   "execution_count": 68,
   "metadata": {},
   "outputs": [
    {
     "name": "stdout",
     "output_type": "stream",
     "text": [
      "[2 1 1 4 0 0 4 4 4 4 1 0 0 0 1 0 0 0 0 0 0 0 4 4 4 1 1 1 1 1 1 0 1 1 0 1 1\n",
      " 1 1 3 3 3 3 3 1 1 2]\n"
     ]
    }
   ],
   "source": [
    "print(k_means_pred)"
   ]
  },
  {
   "cell_type": "code",
   "execution_count": 88,
   "metadata": {},
   "outputs": [
    {
     "data": {
      "text/plain": [
       "True"
      ]
     },
     "execution_count": 88,
     "metadata": {},
     "output_type": "execute_result"
    }
   ],
   "source": [
    "geo_data['y'] = k_means_pred\n",
    "cluster1 = geo_data[['lat', 'lng']][geo_data['y'] == 0].values.tolist()\n",
    "cluster2 = geo_data[['lat', 'lng']][geo_data['y'] == 1].values.tolist()\n",
    "cluster3 = geo_data[['lat', 'lng']][geo_data['y'] == 2].values.tolist()\n",
    "cluster4 = geo_data[['lat', 'lng']][geo_data['y'] == 3].values.tolist()\n",
    "cluster5 = geo_data[['lat', 'lng']][geo_data['y'] == 4].values.tolist()\n",
    "\n",
    "Map = folium.Map(location=[0.0236, 37.9062], zoom_start=10, tiles='OpenStreetMap')\n",
    "# center = [-0.023559, 37.9061928]\n",
    "\n",
    "# Map = folium.Map(location=center, zoom_start=8)\n",
    "\n",
    "for i in cluster1:\n",
    "    folium.CircleMarker(i, radius=5, color=\"blue\", fill_color=\"blue\").add_to(Map)\n",
    "    for i in cluster2:\n",
    "        folium.CircleMarker(i, radius=5, color=\"red\", fill_color=\"red\").add_to(Map)\n",
    "        for i in cluster3:\n",
    "            folium.CircleMarker(i, radius=5, color=\"purple\", fill_color=\"purple\").add_to(Map)\n",
    "        for i in cluster4:\n",
    "            folium.CircleMarker(i, radius=5, color=\"cyan\", fill_color=\"cyan\").add_to(Map)\n",
    "        for i in cluster5:\n",
    "            folium.CircleMarker(i, radius=5, color=\"black\", fill_color=\"black\").add_to(Map)\n",
    "\n",
    "Map.save(\"Map.html\")\n",
    "webbrowser.open(\"Map.html\")"
   ]
  },
  {
   "cell_type": "code",
   "execution_count": null,
   "metadata": {},
   "outputs": [],
   "source": []
  }
 ],
 "metadata": {
  "kernelspec": {
   "display_name": "Python 3 (ipykernel)",
   "language": "python",
   "name": "python3"
  },
  "language_info": {
   "codemirror_mode": {
    "name": "ipython",
    "version": 3
   },
   "file_extension": ".py",
   "mimetype": "text/x-python",
   "name": "python",
   "nbconvert_exporter": "python",
   "pygments_lexer": "ipython3",
   "version": "3.9.7"
  }
 },
 "nbformat": 4,
 "nbformat_minor": 1
}